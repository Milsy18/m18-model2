{
  "nbformat": 4,
  "nbformat_minor": 0,
  "metadata": {
    "colab": {
      "provenance": [],
      "authorship_tag": "ABX9TyPF4STCR7huB26QB6/3OL/2",
      "include_colab_link": true
    },
    "kernelspec": {
      "name": "python3",
      "display_name": "Python 3"
    },
    "language_info": {
      "name": "python"
    }
  },
  "cells": [
    {
      "cell_type": "markdown",
      "metadata": {
        "id": "view-in-github",
        "colab_type": "text"
      },
      "source": [
        "<a href=\"https://colab.research.google.com/github/Milsy18/m18-model2/blob/main/notebooks_01_data_ingestion_and_alignment.ipynb\" target=\"_parent\"><img src=\"https://colab.research.google.com/assets/colab-badge.svg\" alt=\"Open In Colab\"/></a>"
      ]
    },
    {
      "cell_type": "code",
      "source": [
        "%%bash\n",
        "# ───────────────────────────────────────────────────────────────\n",
        "# 1) Clone (or update) the repo into /content/m18-model2\n",
        "# ───────────────────────────────────────────────────────────────\n",
        "if [ ! -d \"/content/m18-model2/.git\" ]; then\n",
        "  echo \"🔄 Cloning m18-model2…\"\n",
        "  git clone https://github.com/Milsy18/m18-model2.git /content/m18-model2\n",
        "else\n",
        "  echo \"🔄 Repo already exists; pulling latest changes…\"\n",
        "  cd /content/m18-model2\n",
        "  git pull\n",
        "fi\n",
        "\n",
        "# ───────────────────────────────────────────────────────────────\n",
        "# 2) Enter the project folder\n",
        "# ───────────────────────────────────────────────────────────────\n",
        "cd /content/m18-model2\n",
        "\n",
        "# ───────────────────────────────────────────────────────────────\n",
        "# 3) Quick sanity‐check: list everything recursively\n",
        "# ───────────────────────────────────────────────────────────────\n",
        "echo\n",
        "echo \"Project root (/content/m18-model2) contents:\"\n",
        "ls -R .\n",
        "\n",
        "# ───────────────────────────────────────────────────────────────\n",
        "# End of setup cell\n",
        "# ───────────────────────────────────────────────────────────────\n"
      ],
      "metadata": {
        "colab": {
          "base_uri": "https://localhost:8080/"
        },
        "id": "-l8rYlm7Atop",
        "outputId": "f16a3304-e0e3-457f-c716-485d80dd3042"
      },
      "execution_count": 1,
      "outputs": [
        {
          "output_type": "stream",
          "name": "stdout",
          "text": [
            "🔄 Repo already exists; pulling latest changes…\n",
            "Already up to date.\n",
            "\n",
            "Project root (/content/m18-model2) contents:\n",
            ".:\n",
            "data\n",
            "modules\n",
            "notebooks\n",
            "\n",
            "./data:\n",
            "processed\n",
            "raw\n",
            "\n",
            "./data/processed:\n",
            "\n",
            "./data/raw:\n",
            "\n",
            "./modules:\n",
            "\n",
            "./notebooks:\n"
          ]
        }
      ]
    },
    {
      "cell_type": "code",
      "source": [
        "%%bash\n",
        "cd /content/m18-model2\n",
        "\n",
        "# 1) Stage the ingestion notebook\n",
        "git add notebooks/01_data_ingestion_and_alignment.ipynb\n",
        "\n",
        "# 2) Commit with a clear message\n",
        "git commit -m \"Phase 1: data ingestion & alignment notebook\"\n",
        "\n",
        "# 3) Push to GitHub\n",
        "git push origin main\n",
        "\n",
        "echo \"✅ Notebook saved to GitHub\"\n"
      ],
      "metadata": {
        "colab": {
          "base_uri": "https://localhost:8080/"
        },
        "id": "-0CMiKD5Ms1N",
        "outputId": "bc3b0109-f475-4e37-c0b4-f1263169d8b0"
      },
      "execution_count": 11,
      "outputs": [
        {
          "output_type": "stream",
          "name": "stdout",
          "text": [
            "On branch main\n",
            "Your branch is up to date with 'origin/main'.\n",
            "\n",
            "Untracked files:\n",
            "  (use \"git add <file>...\" to include in what will be committed)\n",
            "\tdata/raw/btc_d.csv\n",
            "\tdata/raw/total.csv\n",
            "\tdata/raw/total3.csv\n",
            "\tdata/raw/usdt_d.csv\n",
            "\n",
            "nothing added to commit but untracked files present (use \"git add\" to track)\n",
            "✅ Notebook saved to GitHub\n"
          ]
        },
        {
          "output_type": "stream",
          "name": "stderr",
          "text": [
            "fatal: pathspec 'notebooks/01_data_ingestion_and_alignment.ipynb' did not match any files\n",
            "fatal: could not read Username for 'https://github.com': No such device or address\n"
          ]
        }
      ]
    },
    {
      "cell_type": "code",
      "source": [
        "%%bash\n",
        "cd /content/m18-model2/data/raw\n",
        "\n",
        "mv \"CRYPTOCAP_BTC.D, 1D (1).csv\"   btc_d.csv\n",
        "mv \"CRYPTOCAP_TOTAL, 1D (1).csv\"   total.csv\n",
        "mv \"CRYPTOCAP_TOTAL3, 1D (1).csv\"  total3.csv\n",
        "mv \"CRYPTOCAP_USDT.D, 1D.csv\"      usdt_d.csv\n",
        "\n",
        "echo \"Renamed files in data/raw:\"\n",
        "ls -1\n"
      ],
      "metadata": {
        "colab": {
          "base_uri": "https://localhost:8080/"
        },
        "id": "Vryfw2zFFB16",
        "outputId": "571c5de2-a681-4ea8-d278-7b1d6da57d5c"
      },
      "execution_count": 12,
      "outputs": [
        {
          "output_type": "stream",
          "name": "stdout",
          "text": [
            "Renamed files in data/raw:\n",
            "btc_d.csv\n",
            "total3.csv\n",
            "total.csv\n",
            "usdt_d.csv\n"
          ]
        },
        {
          "output_type": "stream",
          "name": "stderr",
          "text": [
            "mv: cannot stat 'CRYPTOCAP_BTC.D, 1D (1).csv': No such file or directory\n",
            "mv: cannot stat 'CRYPTOCAP_TOTAL, 1D (1).csv': No such file or directory\n",
            "mv: cannot stat 'CRYPTOCAP_TOTAL3, 1D (1).csv': No such file or directory\n",
            "mv: cannot stat 'CRYPTOCAP_USDT.D, 1D.csv': No such file or directory\n"
          ]
        }
      ]
    },
    {
      "cell_type": "code",
      "source": [
        "# 1) Upload your raw CSVs from your local machine\n",
        "from google.colab import files\n",
        "import os, shutil\n",
        "\n",
        "# this will pop up a file picker—select all 4 of your CSVs:\n",
        "uploaded = files.upload()\n",
        "\n",
        "# 2) Make sure data/raw exists\n",
        "os.makedirs(\"data/raw\", exist_ok=True)\n",
        "\n",
        "# 3) Move each uploaded file into data/raw/\n",
        "for fn in uploaded:\n",
        "    shutil.move(fn, os.path.join(\"data/raw\", fn))\n",
        "\n",
        "# 4) Confirm\n",
        "print(\"Files in data/raw/:\", os.listdir(\"data/raw\"))\n"
      ],
      "metadata": {
        "colab": {
          "base_uri": "https://localhost:8080/",
          "height": 193
        },
        "id": "fMdfKavmHfQ7",
        "outputId": "70f3c96e-1d3a-4326-8d79-fe2a92da1f37"
      },
      "execution_count": 13,
      "outputs": [
        {
          "output_type": "display_data",
          "data": {
            "text/plain": [
              "<IPython.core.display.HTML object>"
            ],
            "text/html": [
              "\n",
              "     <input type=\"file\" id=\"files-0f06ee4b-c60f-4725-84ed-bbccaa33e512\" name=\"files[]\" multiple disabled\n",
              "        style=\"border:none\" />\n",
              "     <output id=\"result-0f06ee4b-c60f-4725-84ed-bbccaa33e512\">\n",
              "      Upload widget is only available when the cell has been executed in the\n",
              "      current browser session. Please rerun this cell to enable.\n",
              "      </output>\n",
              "      <script>// Copyright 2017 Google LLC\n",
              "//\n",
              "// Licensed under the Apache License, Version 2.0 (the \"License\");\n",
              "// you may not use this file except in compliance with the License.\n",
              "// You may obtain a copy of the License at\n",
              "//\n",
              "//      http://www.apache.org/licenses/LICENSE-2.0\n",
              "//\n",
              "// Unless required by applicable law or agreed to in writing, software\n",
              "// distributed under the License is distributed on an \"AS IS\" BASIS,\n",
              "// WITHOUT WARRANTIES OR CONDITIONS OF ANY KIND, either express or implied.\n",
              "// See the License for the specific language governing permissions and\n",
              "// limitations under the License.\n",
              "\n",
              "/**\n",
              " * @fileoverview Helpers for google.colab Python module.\n",
              " */\n",
              "(function(scope) {\n",
              "function span(text, styleAttributes = {}) {\n",
              "  const element = document.createElement('span');\n",
              "  element.textContent = text;\n",
              "  for (const key of Object.keys(styleAttributes)) {\n",
              "    element.style[key] = styleAttributes[key];\n",
              "  }\n",
              "  return element;\n",
              "}\n",
              "\n",
              "// Max number of bytes which will be uploaded at a time.\n",
              "const MAX_PAYLOAD_SIZE = 100 * 1024;\n",
              "\n",
              "function _uploadFiles(inputId, outputId) {\n",
              "  const steps = uploadFilesStep(inputId, outputId);\n",
              "  const outputElement = document.getElementById(outputId);\n",
              "  // Cache steps on the outputElement to make it available for the next call\n",
              "  // to uploadFilesContinue from Python.\n",
              "  outputElement.steps = steps;\n",
              "\n",
              "  return _uploadFilesContinue(outputId);\n",
              "}\n",
              "\n",
              "// This is roughly an async generator (not supported in the browser yet),\n",
              "// where there are multiple asynchronous steps and the Python side is going\n",
              "// to poll for completion of each step.\n",
              "// This uses a Promise to block the python side on completion of each step,\n",
              "// then passes the result of the previous step as the input to the next step.\n",
              "function _uploadFilesContinue(outputId) {\n",
              "  const outputElement = document.getElementById(outputId);\n",
              "  const steps = outputElement.steps;\n",
              "\n",
              "  const next = steps.next(outputElement.lastPromiseValue);\n",
              "  return Promise.resolve(next.value.promise).then((value) => {\n",
              "    // Cache the last promise value to make it available to the next\n",
              "    // step of the generator.\n",
              "    outputElement.lastPromiseValue = value;\n",
              "    return next.value.response;\n",
              "  });\n",
              "}\n",
              "\n",
              "/**\n",
              " * Generator function which is called between each async step of the upload\n",
              " * process.\n",
              " * @param {string} inputId Element ID of the input file picker element.\n",
              " * @param {string} outputId Element ID of the output display.\n",
              " * @return {!Iterable<!Object>} Iterable of next steps.\n",
              " */\n",
              "function* uploadFilesStep(inputId, outputId) {\n",
              "  const inputElement = document.getElementById(inputId);\n",
              "  inputElement.disabled = false;\n",
              "\n",
              "  const outputElement = document.getElementById(outputId);\n",
              "  outputElement.innerHTML = '';\n",
              "\n",
              "  const pickedPromise = new Promise((resolve) => {\n",
              "    inputElement.addEventListener('change', (e) => {\n",
              "      resolve(e.target.files);\n",
              "    });\n",
              "  });\n",
              "\n",
              "  const cancel = document.createElement('button');\n",
              "  inputElement.parentElement.appendChild(cancel);\n",
              "  cancel.textContent = 'Cancel upload';\n",
              "  const cancelPromise = new Promise((resolve) => {\n",
              "    cancel.onclick = () => {\n",
              "      resolve(null);\n",
              "    };\n",
              "  });\n",
              "\n",
              "  // Wait for the user to pick the files.\n",
              "  const files = yield {\n",
              "    promise: Promise.race([pickedPromise, cancelPromise]),\n",
              "    response: {\n",
              "      action: 'starting',\n",
              "    }\n",
              "  };\n",
              "\n",
              "  cancel.remove();\n",
              "\n",
              "  // Disable the input element since further picks are not allowed.\n",
              "  inputElement.disabled = true;\n",
              "\n",
              "  if (!files) {\n",
              "    return {\n",
              "      response: {\n",
              "        action: 'complete',\n",
              "      }\n",
              "    };\n",
              "  }\n",
              "\n",
              "  for (const file of files) {\n",
              "    const li = document.createElement('li');\n",
              "    li.append(span(file.name, {fontWeight: 'bold'}));\n",
              "    li.append(span(\n",
              "        `(${file.type || 'n/a'}) - ${file.size} bytes, ` +\n",
              "        `last modified: ${\n",
              "            file.lastModifiedDate ? file.lastModifiedDate.toLocaleDateString() :\n",
              "                                    'n/a'} - `));\n",
              "    const percent = span('0% done');\n",
              "    li.appendChild(percent);\n",
              "\n",
              "    outputElement.appendChild(li);\n",
              "\n",
              "    const fileDataPromise = new Promise((resolve) => {\n",
              "      const reader = new FileReader();\n",
              "      reader.onload = (e) => {\n",
              "        resolve(e.target.result);\n",
              "      };\n",
              "      reader.readAsArrayBuffer(file);\n",
              "    });\n",
              "    // Wait for the data to be ready.\n",
              "    let fileData = yield {\n",
              "      promise: fileDataPromise,\n",
              "      response: {\n",
              "        action: 'continue',\n",
              "      }\n",
              "    };\n",
              "\n",
              "    // Use a chunked sending to avoid message size limits. See b/62115660.\n",
              "    let position = 0;\n",
              "    do {\n",
              "      const length = Math.min(fileData.byteLength - position, MAX_PAYLOAD_SIZE);\n",
              "      const chunk = new Uint8Array(fileData, position, length);\n",
              "      position += length;\n",
              "\n",
              "      const base64 = btoa(String.fromCharCode.apply(null, chunk));\n",
              "      yield {\n",
              "        response: {\n",
              "          action: 'append',\n",
              "          file: file.name,\n",
              "          data: base64,\n",
              "        },\n",
              "      };\n",
              "\n",
              "      let percentDone = fileData.byteLength === 0 ?\n",
              "          100 :\n",
              "          Math.round((position / fileData.byteLength) * 100);\n",
              "      percent.textContent = `${percentDone}% done`;\n",
              "\n",
              "    } while (position < fileData.byteLength);\n",
              "  }\n",
              "\n",
              "  // All done.\n",
              "  yield {\n",
              "    response: {\n",
              "      action: 'complete',\n",
              "    }\n",
              "  };\n",
              "}\n",
              "\n",
              "scope.google = scope.google || {};\n",
              "scope.google.colab = scope.google.colab || {};\n",
              "scope.google.colab._files = {\n",
              "  _uploadFiles,\n",
              "  _uploadFilesContinue,\n",
              "};\n",
              "})(self);\n",
              "</script> "
            ]
          },
          "metadata": {}
        },
        {
          "output_type": "stream",
          "name": "stdout",
          "text": [
            "Saving total.csv to total.csv\n",
            "Saving total3.csv to total3.csv\n",
            "Saving usdt_d.csv to usdt_d.csv\n",
            "Saving btc_d.csv to btc_d.csv\n",
            "Files in data/raw/: ['btc_d.csv', 'usdt_d.csv', 'total.csv', 'total3.csv']\n"
          ]
        }
      ]
    },
    {
      "cell_type": "code",
      "source": [
        "import pandas as pd\n",
        "from pathlib import Path\n",
        "\n",
        "# 1) Point at your raw directory & define the four filenames\n",
        "RAW_DIR = Path(\"data/raw\")\n",
        "csv_map = {\n",
        "    \"BTC_D\":    \"btc_d.csv\",\n",
        "    \"TOTAL\":    \"total.csv\",\n",
        "    \"TOTAL3\":   \"total3.csv\",\n",
        "    \"USDT_D\":   \"usdt_d.csv\",\n",
        "}\n",
        "\n",
        "# 2) Load each into a dict of DataFrames\n",
        "market_dfs = {}\n",
        "for name, fname in csv_map.items():\n",
        "    path = RAW_DIR / fname\n",
        "    print(f\"Loading {name} from {path}…\")\n",
        "    df = pd.read_csv(path, index_col=\"time\")               # use the epoch seconds column\n",
        "    df.index = pd.to_datetime(df.index, unit=\"s\")         # convert seconds → datetime\n",
        "    df.index.name = \"Date\"                                # name the index\n",
        "    # keep only the 5 columns we need\n",
        "    market_dfs[name] = df[[\"open\", \"high\", \"low\", \"close\", \"Volume\"]]\n",
        "\n",
        "\n",
        "# 3) Align on the intersection of dates, dropping any rows with missing data\n",
        "aligned = (\n",
        "    pd.concat(market_dfs.values(), axis=1, keys=market_dfs.keys())\n",
        "      .dropna()\n",
        ")\n",
        "print(f\"\\nAligned DataFrame shape: {aligned.shape}\")\n",
        "\n",
        "# 4) Write the aligned regimes out\n",
        "PROC_DIR = Path(\"data/processed\")\n",
        "PROC_DIR.mkdir(parents=True, exist_ok=True)\n",
        "out_path = PROC_DIR / \"market_regimes_aligned.csv\"\n",
        "aligned.to_csv(out_path, index_label=\"Date\")\n",
        "print(f\"Wrote aligned regimes to → {out_path}\")\n"
      ],
      "metadata": {
        "colab": {
          "base_uri": "https://localhost:8080/"
        },
        "id": "BgEgotQBKekC",
        "outputId": "0d242f06-98eb-4d0f-821f-edbc6cd372e1"
      },
      "execution_count": 14,
      "outputs": [
        {
          "output_type": "stream",
          "name": "stdout",
          "text": [
            "Loading BTC_D from data/raw/btc_d.csv…\n",
            "Loading TOTAL from data/raw/total.csv…\n",
            "Loading TOTAL3 from data/raw/total3.csv…\n",
            "Loading USDT_D from data/raw/usdt_d.csv…\n",
            "\n",
            "Aligned DataFrame shape: (1985, 20)\n",
            "Wrote aligned regimes to → data/processed/market_regimes_aligned.csv\n"
          ]
        }
      ]
    },
    {
      "cell_type": "code",
      "source": [
        "%%bash\n",
        "cd /content/m18-model2\n",
        "echo \"Looking for any .ipynb in the tree…\"\n",
        "find . -type f -name '*.ipynb'\n"
      ],
      "metadata": {
        "colab": {
          "base_uri": "https://localhost:8080/"
        },
        "id": "j686qhXbRjPw",
        "outputId": "a14a93b9-645e-463d-ebff-ebb7172aad20"
      },
      "execution_count": 18,
      "outputs": [
        {
          "output_type": "stream",
          "name": "stdout",
          "text": [
            "Looking for any .ipynb in the tree…\n"
          ]
        }
      ]
    },
    {
      "cell_type": "code",
      "source": [
        "%%bash\n",
        "cd /content/m18-model2\n",
        "\n",
        "# Move the ingestion notebook into the notebooks/ directory\n",
        "git mv 01_data_ingestion_and_alignment.ipynb notebooks/\n",
        "\n",
        "# Stage, commit & push\n",
        "git add notebooks/01_data_ingestion_and_alignment.ipynb\n",
        "git commit -m \"Move ingestion notebook into notebooks/ folder\"\n",
        "git push origin main\n",
        "\n",
        "echo \"✅ Notebook is now in notebooks/ on GitHub\"\n"
      ],
      "metadata": {
        "colab": {
          "base_uri": "https://localhost:8080/"
        },
        "id": "LYlwoInnOf3W",
        "outputId": "cf0de71d-ca7c-4a6c-b2ef-382f50f148c6"
      },
      "execution_count": 15,
      "outputs": [
        {
          "output_type": "stream",
          "name": "stdout",
          "text": [
            "On branch main\n",
            "Your branch is up to date with 'origin/main'.\n",
            "\n",
            "Untracked files:\n",
            "  (use \"git add <file>...\" to include in what will be committed)\n",
            "\tdata/raw/btc_d.csv\n",
            "\tdata/raw/total.csv\n",
            "\tdata/raw/total3.csv\n",
            "\tdata/raw/usdt_d.csv\n",
            "\n",
            "nothing added to commit but untracked files present (use \"git add\" to track)\n",
            "✅ Notebook is now in notebooks/ on GitHub\n"
          ]
        },
        {
          "output_type": "stream",
          "name": "stderr",
          "text": [
            "fatal: bad source, source=01_data_ingestion_and_alignment.ipynb, destination=notebooks/01_data_ingestion_and_alignment.ipynb\n",
            "fatal: pathspec 'notebooks/01_data_ingestion_and_alignment.ipynb' did not match any files\n",
            "fatal: could not read Username for 'https://github.com': No such device or address\n"
          ]
        }
      ]
    },
    {
      "cell_type": "code",
      "source": [
        "%%bash\n",
        "cd /content/m18-model2\n",
        "\n",
        "# Move the file into notebooks/ and strip the extra “notebooks_” prefix\n",
        "git mv notebooks_01_data_ingestion_and_alignment.ipynb notebooks/01_data_ingestion_and_alignment.ipynb\n"
      ],
      "metadata": {
        "id": "CnRRKzeIVgjU"
      },
      "execution_count": 20,
      "outputs": []
    },
    {
      "cell_type": "code",
      "source": [
        "%%bash\n",
        "cd /content/m18-model2\n",
        "git commit -m \"Fix: place ingestion notebook in notebooks/ folder\"\n"
      ],
      "metadata": {
        "colab": {
          "base_uri": "https://localhost:8080/"
        },
        "id": "Qe5SyQ8tVl1Y",
        "outputId": "54c5f91d-19c8-4d5a-a752-61fb3697011b"
      },
      "execution_count": 21,
      "outputs": [
        {
          "output_type": "stream",
          "name": "stdout",
          "text": [
            "[main c8128bc] Fix: place ingestion notebook in notebooks/ folder\n",
            " 1 file changed, 0 insertions(+), 0 deletions(-)\n",
            " rename notebooks_01_data_ingestion_and_alignment.ipynb => notebooks/01_data_ingestion_and_alignment.ipynb (100%)\n"
          ]
        }
      ]
    }
  ]
}